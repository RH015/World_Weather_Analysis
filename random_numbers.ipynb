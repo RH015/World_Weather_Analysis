{
 "cells": [
  {
   "cell_type": "code",
   "execution_count": 1,
   "id": "73163bb8",
   "metadata": {},
   "outputs": [],
   "source": [
    "# Import the random module.\n",
    "import random"
   ]
  },
  {
   "cell_type": "code",
   "execution_count": 2,
   "id": "ed5abdbf",
   "metadata": {},
   "outputs": [
    {
     "data": {
      "text/plain": [
       "0.033452194117646106"
      ]
     },
     "execution_count": 2,
     "metadata": {},
     "output_type": "execute_result"
    }
   ],
   "source": [
    "random.random()"
   ]
  },
  {
   "cell_type": "code",
   "execution_count": 3,
   "id": "15d45910",
   "metadata": {},
   "outputs": [
    {
     "data": {
      "text/plain": [
       "-20"
      ]
     },
     "execution_count": 3,
     "metadata": {},
     "output_type": "execute_result"
    }
   ],
   "source": [
    "random.randint(-90,90)"
   ]
  },
  {
   "cell_type": "code",
   "execution_count": 4,
   "id": "19db2e54",
   "metadata": {},
   "outputs": [
    {
     "data": {
      "text/plain": [
       "66.22844363688927"
      ]
     },
     "execution_count": 4,
     "metadata": {},
     "output_type": "execute_result"
    }
   ],
   "source": [
    "random_number = random.randint(-90,89) + random.random()\n",
    "random_number"
   ]
  },
  {
   "cell_type": "code",
   "execution_count": 5,
   "id": "ab7c9c91",
   "metadata": {},
   "outputs": [],
   "source": [
    "x = 1\n",
    "latitudes = []\n",
    "while x < 11:\n",
    "    random_lat = random.randint(-90, 89) + random.random()\n",
    "    latitudes.append(random_lat)\n",
    "    x += 1"
   ]
  },
  {
   "cell_type": "code",
   "execution_count": 6,
   "id": "81c3cc7b",
   "metadata": {},
   "outputs": [
    {
     "data": {
      "text/plain": [
       "[-83.8039255878806,\n",
       " -65.50380654789657,\n",
       " -35.232702290550634,\n",
       " 79.34580950490557,\n",
       " 35.91857691859171,\n",
       " -35.23771656622551,\n",
       " -6.344421441622899,\n",
       " -21.69526061286659,\n",
       " 8.899165633814164,\n",
       " 46.215743962898074]"
      ]
     },
     "execution_count": 6,
     "metadata": {},
     "output_type": "execute_result"
    }
   ],
   "source": [
    "latitudes"
   ]
  },
  {
   "cell_type": "code",
   "execution_count": 7,
   "id": "d830a991",
   "metadata": {},
   "outputs": [
    {
     "data": {
      "text/plain": [
       "-75"
      ]
     },
     "execution_count": 7,
     "metadata": {},
     "output_type": "execute_result"
    }
   ],
   "source": [
    "random.randrange(-90,90,step=3)"
   ]
  },
  {
   "cell_type": "code",
   "execution_count": 8,
   "id": "9f89ee7e",
   "metadata": {},
   "outputs": [
    {
     "data": {
      "text/plain": [
       "54.737952413155455"
      ]
     },
     "execution_count": 8,
     "metadata": {},
     "output_type": "execute_result"
    }
   ],
   "source": [
    "random.uniform(-90,90)"
   ]
  },
  {
   "cell_type": "code",
   "execution_count": 9,
   "id": "cbb1d37a",
   "metadata": {},
   "outputs": [],
   "source": [
    "# Import the NumPy module.\n",
    "import numpy as np"
   ]
  },
  {
   "cell_type": "code",
   "execution_count": 10,
   "id": "b1a27382",
   "metadata": {},
   "outputs": [
    {
     "data": {
      "text/plain": [
       "-89.11929059113761"
      ]
     },
     "execution_count": 10,
     "metadata": {},
     "output_type": "execute_result"
    }
   ],
   "source": [
    "np.random.uniform(-90.000,90.000)"
   ]
  },
  {
   "cell_type": "code",
   "execution_count": 11,
   "id": "5385e270",
   "metadata": {},
   "outputs": [
    {
     "data": {
      "text/plain": [
       "61.52522092686954"
      ]
     },
     "execution_count": 11,
     "metadata": {},
     "output_type": "execute_result"
    }
   ],
   "source": [
    "np.random.uniform(low=-90,high=90.000)"
   ]
  },
  {
   "cell_type": "code",
   "execution_count": 12,
   "id": "d83937ba",
   "metadata": {},
   "outputs": [
    {
     "data": {
      "text/plain": [
       "array([ -8.76209148, -65.91948653, -85.54100551, -88.92310269,\n",
       "        71.1942886 , -46.66001504,  79.44410934, -69.49303933,\n",
       "       -27.9853102 ,   2.00831682, -67.01900661,  64.78329951,\n",
       "       -43.61146353, -44.81767051, -22.42197608,  84.98227664,\n",
       "        62.06215648,  22.50980461, -71.59026024,  45.97882921,\n",
       "       -70.60534521,  83.81790534, -83.01070999,  81.70760905,\n",
       "       -46.39311071,  20.19557379, -86.18012701,  72.91975716,\n",
       "       -30.42588471, -23.18704882, -77.32397166, -20.61377796,\n",
       "        62.88473296,  62.31065901,  11.80644996, -65.17812113,\n",
       "        18.32239938,  55.72216289, -79.21359595, -17.62670626,\n",
       "        81.32411308, -40.33648402,  12.45992051,  76.11474053,\n",
       "        49.51212896,  55.19434806, -53.96560642,  23.44935482,\n",
       "        58.99040491,  29.41093354])"
      ]
     },
     "execution_count": 12,
     "metadata": {},
     "output_type": "execute_result"
    }
   ],
   "source": [
    "np.random.uniform(-90.000,90.000,size=50)"
   ]
  },
  {
   "cell_type": "code",
   "execution_count": 13,
   "id": "815a07f4",
   "metadata": {},
   "outputs": [],
   "source": [
    "# Import timeit.\n",
    "import timeit"
   ]
  },
  {
   "cell_type": "code",
   "execution_count": 14,
   "id": "b2bec445",
   "metadata": {},
   "outputs": [
    {
     "name": "stdout",
     "output_type": "stream",
     "text": [
      "33.6 µs ± 10.3 µs per loop (mean ± std. dev. of 7 runs, 10000 loops each)\n"
     ]
    }
   ],
   "source": [
    "#To test how long a piece of code or function takes to run, microsegundos\n",
    "%timeit np.random.uniform(-90.000, 90.000, size=1500)"
   ]
  },
  {
   "cell_type": "code",
   "execution_count": 15,
   "id": "2bb50fb1",
   "metadata": {},
   "outputs": [
    {
     "name": "stdout",
     "output_type": "stream",
     "text": [
      "2.62 ms ± 328 µs per loop (mean ± std. dev. of 7 runs, 100 loops each)\n"
     ]
    }
   ],
   "source": [
    "def latitudes(size):\n",
    "    latitudes = []\n",
    "    x = 0\n",
    "    while x < (size):\n",
    "        random_lat = random.randint(-90, 90) + random.random()\n",
    "        latitudes.append(random_lat)\n",
    "        x += 1\n",
    "    return latitudes\n",
    "# Call the function with 1500.\n",
    "%timeit latitudes(1500)"
   ]
  }
 ],
 "metadata": {
  "kernelspec": {
   "display_name": "PythonData",
   "language": "python",
   "name": "pythondata"
  },
  "language_info": {
   "codemirror_mode": {
    "name": "ipython",
    "version": 3
   },
   "file_extension": ".py",
   "mimetype": "text/x-python",
   "name": "python",
   "nbconvert_exporter": "python",
   "pygments_lexer": "ipython3",
   "version": "3.7.11"
  }
 },
 "nbformat": 4,
 "nbformat_minor": 5
}
