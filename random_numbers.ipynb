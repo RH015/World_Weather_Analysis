{
 "cells": [
  {
   "cell_type": "code",
   "execution_count": 1,
   "id": "73163bb8",
   "metadata": {},
   "outputs": [],
   "source": [
    "# Import the random module.\n",
    "import random"
   ]
  },
  {
   "cell_type": "code",
   "execution_count": 2,
   "id": "ed5abdbf",
   "metadata": {},
   "outputs": [
    {
     "data": {
      "text/plain": [
       "0.09567303082442857"
      ]
     },
     "execution_count": 2,
     "metadata": {},
     "output_type": "execute_result"
    }
   ],
   "source": [
    "random.random()"
   ]
  },
  {
   "cell_type": "code",
   "execution_count": 4,
   "id": "15d45910",
   "metadata": {},
   "outputs": [
    {
     "data": {
      "text/plain": [
       "-48"
      ]
     },
     "execution_count": 4,
     "metadata": {},
     "output_type": "execute_result"
    }
   ],
   "source": [
    "random.randint(-90,90)"
   ]
  },
  {
   "cell_type": "code",
   "execution_count": 5,
   "id": "19db2e54",
   "metadata": {},
   "outputs": [
    {
     "data": {
      "text/plain": [
       "70.73564529531755"
      ]
     },
     "execution_count": 5,
     "metadata": {},
     "output_type": "execute_result"
    }
   ],
   "source": [
    "random_number = random.randint(-90,89) + random.random()\n",
    "random_number"
   ]
  },
  {
   "cell_type": "code",
   "execution_count": 8,
   "id": "ab7c9c91",
   "metadata": {},
   "outputs": [],
   "source": [
    "x = 1\n",
    "latitudes = []\n",
    "while x < 11:\n",
    "    random_lat = random.randint(-90, 89) + random.random()\n",
    "    latitudes.append(random_lat)\n",
    "    x += 1"
   ]
  },
  {
   "cell_type": "code",
   "execution_count": 9,
   "id": "81c3cc7b",
   "metadata": {},
   "outputs": [
    {
     "data": {
      "text/plain": [
       "[19.332445911657278,\n",
       " 68.85344325977164,\n",
       " 29.944677041607402,\n",
       " 62.89997546991566,\n",
       " -86.44537476544082,\n",
       " -76.94853842519667,\n",
       " -19.262045138869972,\n",
       " 3.167781118585562,\n",
       " 55.41329273571279,\n",
       " 89.79205562482692]"
      ]
     },
     "execution_count": 9,
     "metadata": {},
     "output_type": "execute_result"
    }
   ],
   "source": [
    "latitudes"
   ]
  },
  {
   "cell_type": "code",
   "execution_count": 13,
   "id": "d830a991",
   "metadata": {},
   "outputs": [
    {
     "data": {
      "text/plain": [
       "-36"
      ]
     },
     "execution_count": 13,
     "metadata": {},
     "output_type": "execute_result"
    }
   ],
   "source": [
    "random.randrange(-90,90,step=3)"
   ]
  },
  {
   "cell_type": "code",
   "execution_count": 14,
   "id": "9f89ee7e",
   "metadata": {},
   "outputs": [
    {
     "data": {
      "text/plain": [
       "-15.203808574099511"
      ]
     },
     "execution_count": 14,
     "metadata": {},
     "output_type": "execute_result"
    }
   ],
   "source": [
    "random.uniform(-90,90)"
   ]
  },
  {
   "cell_type": "code",
   "execution_count": 15,
   "id": "cbb1d37a",
   "metadata": {},
   "outputs": [],
   "source": [
    "# Import the NumPy module.\n",
    "import numpy as np"
   ]
  },
  {
   "cell_type": "code",
   "execution_count": 17,
   "id": "b1a27382",
   "metadata": {},
   "outputs": [
    {
     "data": {
      "text/plain": [
       "63.95656178883513"
      ]
     },
     "execution_count": 17,
     "metadata": {},
     "output_type": "execute_result"
    }
   ],
   "source": [
    "np.random.uniform(-90.000,90.000)"
   ]
  },
  {
   "cell_type": "code",
   "execution_count": 18,
   "id": "5385e270",
   "metadata": {},
   "outputs": [
    {
     "data": {
      "text/plain": [
       "0.19149715184913418"
      ]
     },
     "execution_count": 18,
     "metadata": {},
     "output_type": "execute_result"
    }
   ],
   "source": [
    "np.random.uniform(low=-90,high=90.000)"
   ]
  },
  {
   "cell_type": "code",
   "execution_count": 19,
   "id": "d83937ba",
   "metadata": {},
   "outputs": [
    {
     "data": {
      "text/plain": [
       "array([ -1.79865709,  -8.71508475,   2.47085919,   9.64470428,\n",
       "        88.81086026, -25.57808243,  61.89790141, -67.84693324,\n",
       "        66.98710397,  35.3199775 , -88.63928943,  64.85996738,\n",
       "        -4.52936519,  14.39056166,  67.98730493,  76.21373435,\n",
       "        82.66724535,  21.47258899,  60.19139351, -79.75465404,\n",
       "       -57.63614343,  34.79919106,  -0.93007628,  26.38665493,\n",
       "       -48.34777884, -14.6877329 , -15.22500378,  76.50381276,\n",
       "        29.0084633 ,  61.20670824, -88.81212197,  -8.66221711,\n",
       "        46.00056546,  69.12867401, -31.2164038 , -55.02942894,\n",
       "        65.44122292,  72.71366497,  17.88089975,  -4.60716948,\n",
       "       -65.7295167 ,  -4.32397886, -50.83436014,  62.32048804,\n",
       "        58.64608652,  79.8336338 , -35.47741388,  88.08398206,\n",
       "         8.75981659, -87.55819899])"
      ]
     },
     "execution_count": 19,
     "metadata": {},
     "output_type": "execute_result"
    }
   ],
   "source": [
    "np.random.uniform(-90.000,90.000,size=50)"
   ]
  },
  {
   "cell_type": "code",
   "execution_count": 20,
   "id": "815a07f4",
   "metadata": {},
   "outputs": [],
   "source": [
    "# Import timeit.\n",
    "import timeit"
   ]
  },
  {
   "cell_type": "code",
   "execution_count": 21,
   "id": "b2bec445",
   "metadata": {},
   "outputs": [
    {
     "name": "stdout",
     "output_type": "stream",
     "text": [
      "14 µs ± 883 ns per loop (mean ± std. dev. of 7 runs, 100000 loops each)\n"
     ]
    }
   ],
   "source": [
    "#To test how long a piece of code or function takes to run, microsegundos\n",
    "%timeit np.random.uniform(-90.000, 90.000, size=1500)"
   ]
  },
  {
   "cell_type": "code",
   "execution_count": 22,
   "id": "2bb50fb1",
   "metadata": {},
   "outputs": [
    {
     "name": "stdout",
     "output_type": "stream",
     "text": [
      "1.76 ms ± 159 µs per loop (mean ± std. dev. of 7 runs, 1000 loops each)\n"
     ]
    }
   ],
   "source": [
    "def latitudes(size):\n",
    "    latitudes = []\n",
    "    x = 0\n",
    "    while x < (size):\n",
    "        random_lat = random.randint(-90, 90) + random.random()\n",
    "        latitudes.append(random_lat)\n",
    "        x += 1\n",
    "    return latitudes\n",
    "# Call the function with 1500.\n",
    "%timeit latitudes(1500)"
   ]
  }
 ],
 "metadata": {
  "kernelspec": {
   "display_name": "PythonData",
   "language": "python",
   "name": "pythondata"
  },
  "language_info": {
   "codemirror_mode": {
    "name": "ipython",
    "version": 3
   },
   "file_extension": ".py",
   "mimetype": "text/x-python",
   "name": "python",
   "nbconvert_exporter": "python",
   "pygments_lexer": "ipython3",
   "version": "3.7.11"
  }
 },
 "nbformat": 4,
 "nbformat_minor": 5
}
